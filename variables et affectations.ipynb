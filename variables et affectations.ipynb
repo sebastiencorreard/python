{
    "cells": [
    {
        "metadata":
        {},
        "id": "official-scientist",
        "cell_type": "markdown",
        "source": "En **Python**, l'opération d'affectation est représentée par le signe $=$\n\n "
    },
    {
        "metadata":
        {},
        "id": "appropriate-swimming",
        "cell_type": "markdown",
        "source": "S'il ne connaît pas un mot, **Python** considère que c'est le nom d'une *variable*."
    },
    {
        "metadata":
        {},
        "id": "provincial-petroleum",
        "cell_type": "markdown",
        "source": "L'instruction suivante a donc pour effet d'attribuer la valeur 0 à la variable X :"
    },
    {
        "metadata":
        {
            "trusted": true
        },
        "id": "stainless-reward",
        "cell_type": "code",
        "source": "X = 0",
        "execution_count": 1,
        "outputs": []
    },
    {
        "metadata":
        {},
        "id": "developing-volume",
        "cell_type": "markdown",
        "source": "Pour le vérifier, on peut demander à Python d'afficher la valeur de X. Pour ça, on écrit juste :"
    },
    {
        "metadata":
        {
            "trusted": true
        },
        "id": "elegant-pakistan",
        "cell_type": "code",
        "source": "X",
        "execution_count": 2,
        "outputs": [
        {
            "output_type": "execute_result",
            "execution_count": 2,
            "data":
            {
                "text/plain": "0"
            },
            "metadata":
            {}
        }]
    },
    {
        "metadata":
        {},
        "id": "round-annex",
        "cell_type": "markdown",
        "source": "Une variable peut, comme son nom l'indique, *varier* dans le temps. Essayons maintenant :"
    },
    {
        "metadata":
        {
            "trusted": true
        },
        "id": "indonesian-merchant",
        "cell_type": "code",
        "source": "X=10",
        "execution_count": 3,
        "outputs": []
    },
    {
        "metadata":
        {},
        "id": "brutal-catalog",
        "cell_type": "markdown",
        "source": "Combien vaut X maintenant ? Facile :"
    },
    {
        "metadata":
        {
            "trusted": true
        },
        "id": "analyzed-coral",
        "cell_type": "code",
        "source": "X",
        "execution_count": 4,
        "outputs": [
        {
            "output_type": "execute_result",
            "execution_count": 4,
            "data":
            {
                "text/plain": "10"
            },
            "metadata":
            {}
        }]
    },
    {
        "metadata":
        {},
        "id": "every-cowboy",
        "cell_type": "markdown",
        "source": "Voici une suite d'instructions Python, une par ligne. Essaie de deviner ce qu'elles vont faire, et quelles valeurs prendront les variables, A, B, C, D, et X aux différents moments du programme."
    },
    {
        "metadata":
        {
            "trusted": false
        },
        "id": "foreign-point",
        "cell_type": "code",
        "source": "A=1\nB=9\nC=4\nD=8\nX=A\nX=10*X+B\nX=10*X+C\nX=10*X+D",
        "execution_count": null,
        "outputs": []
    }],
    "metadata":
    {
        "kernelspec":
        {
            "name": "python3",
            "display_name": "Python 3",
            "language": "python"
        },
        "language_info":
        {
            "name": "python",
            "version": "3.7.10",
            "mimetype": "text/x-python",
            "codemirror_mode":
            {
                "name": "ipython",
                "version": 3
            },
            "pygments_lexer": "ipython3",
            "nbconvert_exporter": "python",
            "file_extension": ".py"
        }
    },
    "nbformat": 4,
    "nbformat_minor": 5
}
