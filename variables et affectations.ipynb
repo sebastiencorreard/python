{
 "cells": [
  {
   "cell_type": "markdown",
   "id": "official-scientist",
   "metadata": {},
   "source": [
    "En **Python**, l'opération d'affectation est représentée par le signe $=$\n",
    "\n",
    " "
   ]
  },
  {
   "cell_type": "markdown",
   "id": "appropriate-swimming",
   "metadata": {},
   "source": [
    "S'il ne connaît pas un mot, **Python** considère que c'est le nom d'une *variable*."
   ]
  },
  {
   "cell_type": "markdown",
   "id": "provincial-petroleum",
   "metadata": {},
   "source": [
    "L'instruction suivante a donc pour effet d'attribuer la valeur 0 à la variable X :"
   ]
  },
  {
   "cell_type": "code",
   "execution_count": 4,
   "id": "stainless-reward",
   "metadata": {},
   "outputs": [],
   "source": [
    "X = 0"
   ]
  },
  {
   "cell_type": "markdown",
   "id": "developing-volume",
   "metadata": {},
   "source": [
    "Pour le vérifier, on peut demander à Python d'afficher la valeur de X. Pour ça, on écrit juste :"
   ]
  },
  {
   "cell_type": "code",
   "execution_count": 5,
   "id": "elegant-pakistan",
   "metadata": {},
   "outputs": [
    {
     "data": {
      "text/plain": [
       "0"
      ]
     },
     "execution_count": 5,
     "metadata": {},
     "output_type": "execute_result"
    }
   ],
   "source": [
    "X"
   ]
  },
  {
   "cell_type": "markdown",
   "id": "round-annex",
   "metadata": {},
   "source": [
    "Une variable peut, comme son nom l'indique, *varier* dans le temps. Essayons maintenant :"
   ]
  },
  {
   "cell_type": "code",
   "execution_count": 6,
   "id": "indonesian-merchant",
   "metadata": {},
   "outputs": [],
   "source": [
    "X=10"
   ]
  },
  {
   "cell_type": "markdown",
   "id": "brutal-catalog",
   "metadata": {},
   "source": [
    "Combien vaut X maintenant ? Facile :"
   ]
  },
  {
   "cell_type": "code",
   "execution_count": 7,
   "id": "analyzed-coral",
   "metadata": {},
   "outputs": [
    {
     "data": {
      "text/plain": [
       "10"
      ]
     },
     "execution_count": 7,
     "metadata": {},
     "output_type": "execute_result"
    }
   ],
   "source": [
    "X"
   ]
  },
  {
   "cell_type": "markdown",
   "id": "every-cowboy",
   "metadata": {},
   "source": [
    "Voici une suite d'instructions Python, essaie de deviner ce qu'elles vont faire, et quelles valeurs prendront les variables, A, B, C, D, et X aux différents moments du programme."
   ]
  },
  {
   "cell_type": "code",
   "execution_count": null,
   "id": "foreign-point",
   "metadata": {},
   "outputs": [],
   "source": []
  }
 ],
 "metadata": {
  "kernelspec": {
   "display_name": "Python 3",
   "language": "python",
   "name": "python3"
  },
  "language_info": {
   "codemirror_mode": {
    "name": "ipython",
    "version": 3
   },
   "file_extension": ".py",
   "mimetype": "text/x-python",
   "name": "python",
   "nbconvert_exporter": "python",
   "pygments_lexer": "ipython3",
   "version": "3.7.10"
  }
 },
 "nbformat": 4,
 "nbformat_minor": 5
}
